{
 "cells": [
  {
   "cell_type": "markdown",
   "metadata": {},
   "source": [
    "# DataScience Python\n",
    "\n",
    "## Anaconda\n",
    "\n",
    "La plataforma **Anaconda** complementa la comunidad _Open Source_ de Python. Provee una plataforma muy rica para análisis de datos de nivel empresarial adoptando una arquitectura moderna para la ciencia de datos abiertos.\n",
    "\n",
    "![Imagen Anaconda](https://camo.githubusercontent.com/2ccca51234681f4c3757271a39d51298176b1e25/68747470733a2f2f7777772e636f6e74696e75756d2e696f2f73697465732f616c6c2f7468656d65732f636f6e74696e75756d5f666f756e646174696f6e2f696d616765732f6c6f676f732f6c6f676f2d616e61636f6e64612e737667) "
   ]
  },
  {
   "cell_type": "markdown",
   "metadata": {},
   "source": [
    "## Jupyter (antes iPython)\n",
    "\n",
    "El cuaderno-de-notas Jupyter (Jupyter Notebook) es una aplicación web que permite crear y compartir documentos que contienen código vivo, ecuaciones, visualización y texto explicativo. Entre sus usos están: limpieza y transformación de datos, simulación numérica, modelaje estadístico, _machine learning_ y mucho más. (http://jupyter.org/)\n",
    "\n",
    "![Imagen Jupiter](https://camo.githubusercontent.com/69def436172f6f5171860b02c12099dc232d59b9/687474703a2f2f6a7570797465722e6f72672f6173736574732f6a757079746572707265766965772e706e67)\n",
    "\n",
    "## Markdown\n",
    "\n",
    "**Markdown** es una forma de estilizar texto en la web. Uno puede controlar como se muestra un documento; dar formato a palabras con estilos como _italicas_, **negrillas**; agregar imágenes, crear listas y otras cosas que se pueden hacer con esta herramienta. Los formatos se dan escribiendo texto regular agregando caractéres no alfabéticos como `#` o `*`\n",
    "\n",
    ">Una excelente referencia para aprender Markdown es: <br>\n",
    "https://guides.github.com/features/mastering-markdown/ <br>\n",
    "también se puede seguir la guía: <br>\n",
    "http://www.markdowntutorial.com/ <br>\n",
    "\n",
    "## Bibliografía\n",
    "\n",
    "[Introduction to Python for Econometrics, Statistics and Data Analysis](http://www.kevinsheppard.com/images/0/09/Python_introduction.pdf), Kevin Sheppard, University of Oxford\n",
    "\n",
    "## GitHub\n",
    "\n",
    "\n",
    "shell\n",
    "echo \"# dsPython\" >> README.md\n",
    "git init\n",
    "git add README.md\n",
    "git commit -m \"first commit\"\n",
    "git remote add origin https://github.com/<USERNAME>/dsPython.git\n",
    "git push -u origin master"
   ]
  }
 ],
 "metadata": {
  "kernelspec": {
   "display_name": "Python 2",
   "language": "python",
   "name": "python2"
  },
  "language_info": {
   "codemirror_mode": {
    "name": "ipython",
    "version": 2
   },
   "file_extension": ".py",
   "mimetype": "text/x-python",
   "name": "python",
   "nbconvert_exporter": "python",
   "pygments_lexer": "ipython2",
   "version": "2.7.11"
  }
 },
 "nbformat": 4,
 "nbformat_minor": 0
}
